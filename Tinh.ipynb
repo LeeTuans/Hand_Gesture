{
 "cells": [
  {
   "cell_type": "code",
   "execution_count": 1,
   "metadata": {},
   "outputs": [
    {
     "name": "stdout",
     "output_type": "stream",
     "text": [
      "Warning! No module named 'sounddevice'\n"
     ]
    }
   ],
   "source": [
    "import cv2\n",
    "import mediapipe as mp\n",
    "import copy\n",
    "import T_Functions as fn\n",
    "import T_HandPoint as hp\n",
    "import time\n",
    "import pyshine as ps"
   ]
  },
  {
   "cell_type": "code",
   "execution_count": 2,
   "metadata": {},
   "outputs": [],
   "source": [
    "min_detection_confidence = 0.75\n",
    "min_tracking_confidence = 0.5\n",
    "mpHands = mp.solutions.hands\n",
    "hands = mpHands.Hands(\n",
    "            static_image_mode=False,\n",
    "            max_num_hands=2,\n",
    "            min_detection_confidence=min_detection_confidence,\n",
    "            min_tracking_confidence=min_tracking_confidence\n",
    "        )\n",
    "mpDraw = mp.solutions.drawing_utils"
   ]
  },
  {
   "cell_type": "code",
   "execution_count": 3,
   "metadata": {},
   "outputs": [],
   "source": [
    "LbPath = './model/Hand_Point/HandPose.csv'\n",
    "pose = fn.ReadLb(LbPath)\n",
    "hpc = hp.HPC()"
   ]
  },
  {
   "cell_type": "code",
   "execution_count": 4,
   "metadata": {},
   "outputs": [],
   "source": [
    "import numpy as np"
   ]
  },
  {
   "cell_type": "code",
   "execution_count": 5,
   "metadata": {},
   "outputs": [],
   "source": [
    "cap = cv2.VideoCapture(0)\n",
    "i = 0\n",
    "j = 0\n",
    "ip = -1\n",
    "text =  'Input: '\n",
    "while True:\n",
    "    success,img=cap.read()\n",
    "    img = cv2.flip(img, 1)\n",
    "\n",
    "    # img = cv2.medianBlur(img,5)\n",
    "    \n",
    "    List = []\n",
    "    textL, textR  = '', ''\n",
    "\n",
    "    debug_img = copy.deepcopy(img)\n",
    "    imgRGB = cv2.cvtColor(debug_img, cv2.COLOR_BGR2RGB)\n",
    "    results = hands.process(imgRGB)\n",
    "\n",
    "    if results.multi_hand_landmarks:\n",
    "        myHand = results.multi_hand_landmarks\n",
    "        # for id, lm in enumerate(myHand):\n",
    "        #     mpDraw.draw_landmarks(debug_img, lm, mpHands.HAND_CONNECTIONS, \n",
    "        #                             mpDraw.DrawingSpec(color=(121, 22, 76), thickness=2, circle_radius=4),\n",
    "        #                             mpDraw.DrawingSpec(color=(250, 44, 250), thickness=2, circle_radius=2),\n",
    "        #                             )\n",
    "        \n",
    "        for lm, handedness in zip(myHand, results.multi_handedness):\n",
    "            brect = fn.CalcBR(debug_img, lm)\n",
    "            lml = fn.FindPoint(debug_img, lm)\n",
    "            pre = fn.pre_process(lml, handedness.classification[0].index)\n",
    "            hand_sign_id, test = hpc(pre)\n",
    "            debug_img = fn.DrawBR(True, debug_img, brect)\n",
    "\n",
    "            if test[hand_sign_id] >= 0.5:\n",
    "                debug_img = fn.DrawIT(\n",
    "                            debug_img,\n",
    "                            brect,\n",
    "                            handedness,\n",
    "                            pose[hand_sign_id]\n",
    "                        )\n",
    "                if handedness.classification[0].index == 1:\n",
    "                    textR = 'R: ' + pose[hand_sign_id]\n",
    "                else:\n",
    "                    textL = 'L: ' + pose[hand_sign_id]\n",
    "                # if ip != hand_sign_id:\n",
    "                #     ip = hand_sign_id\n",
    "                #     j = 0\n",
    "                # else:\n",
    "                #     if j == 15:\n",
    "                #         text  =  text + pose[hand_sign_id]\n",
    "                #         j = 0\n",
    "                #     else: \n",
    "                #         j += 1\n",
    "            else:\n",
    "                debug_img = fn.DrawIT(\n",
    "                            debug_img,\n",
    "                            brect,\n",
    "                            handedness,\n",
    "                            \"\"\n",
    "                        )\n",
    "        # #if test[hand_sign_id] >= 0.99999:\n",
    "        # print(test[hand_sign_id])\n",
    "    text = textL + '     ' + textR\n",
    "    cv2.rectangle(debug_img, (10, 10), (300, 55), (0, 207, 0), -1)\n",
    "    cv2.putText(debug_img, text, (20, 45),\n",
    "                                   cv2.FONT_HERSHEY_SIMPLEX, 1.3, (245, 0, 0), 3, cv2.LINE_AA)\n",
    "    # debug_img = ps.putBText(debug_img, text, text_offset_x=20, text_offset_y=20, vspace=10, hspace=10, font_scale=1.0, background_RGB=(228,225,222), text_RGB=(1,1,1))\n",
    "    # cv2.rectangle(debug_img, (10, 10), (600, 100), (121, 22, 76), -1)\n",
    "    # cv2.putText(debug_img, \"info_text\", (52, 52),\n",
    "    #            cv2.FONT_HERSHEY_SIMPLEX, 0.6, (255, 255, 255), 1, cv2.LINE_AA)\n",
    "    cv2.imshow(\"Image\",debug_img)\n",
    "\n",
    "    key = cv2.waitKey(10)\n",
    "    if key == 27:\n",
    "        break\n",
    "    elif key >= 97 & key <= 122:\n",
    "        i+=1\n",
    "        if i > 5:\n",
    "            if results.multi_hand_landmarks:\n",
    "                myHand = results.multi_hand_landmarks\n",
    "                #List1 = fn.FindPoint(results.multi_hand_landmarks)\n",
    "                #List = fn.pre_process(List1)\n",
    "                fn.SavePoint(key, pre)\n",
    "\n",
    "                        \n",
    "cap.release()\n",
    "cv2.destroyAllWindows()"
   ]
  },
  {
   "cell_type": "code",
   "execution_count": 6,
   "metadata": {},
   "outputs": [],
   "source": [
    "cap.release()\n",
    "cv2.destroyAllWindows()"
   ]
  }
 ],
 "metadata": {
  "kernelspec": {
   "display_name": "Python 3.9.0 ('.mtao': venv)",
   "language": "python",
   "name": "python3"
  },
  "language_info": {
   "codemirror_mode": {
    "name": "ipython",
    "version": 3
   },
   "file_extension": ".py",
   "mimetype": "text/x-python",
   "name": "python",
   "nbconvert_exporter": "python",
   "pygments_lexer": "ipython3",
   "version": "3.9.0"
  },
  "orig_nbformat": 4,
  "vscode": {
   "interpreter": {
    "hash": "8c605ef64628d116b4b885575680aefdda046457c284ed018b9a1bcba7734ddc"
   }
  }
 },
 "nbformat": 4,
 "nbformat_minor": 2
}
