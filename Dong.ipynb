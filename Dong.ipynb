{
 "cells": [
  {
   "cell_type": "code",
   "execution_count": 49,
   "metadata": {},
   "outputs": [],
   "source": [
    "import cv2\n",
    "import mediapipe as mp\n",
    "import D_Ham\n",
    "import numpy as np\n",
    "import os\n",
    "import D_HistoryPoint as His"
   ]
  },
  {
   "cell_type": "code",
   "execution_count": 50,
   "metadata": {},
   "outputs": [],
   "source": [
    "hisp = His.His_HPC()\n",
    "kh = D_Ham.ReadLb_H('./model/Point_History/Label.csv')\n",
    "mp_holistic = mp.solutions.holistic # Holistic model\n",
    "mp_drawing = mp.solutions.drawing_utils # Drawing utilities"
   ]
  },
  {
   "cell_type": "code",
   "execution_count": 51,
   "metadata": {},
   "outputs": [],
   "source": [
    "def mediapipe_detection(image, model):\n",
    "    image = cv2.cvtColor(image, cv2.COLOR_BGR2RGB) # COLOR CONVERSION BGR 2 RGB\n",
    "    image.flags.writeable = False                  # Image is no longer writeable\n",
    "    results = model.process(image)                 # Make prediction\n",
    "    image.flags.writeable = True                   # Image is now writeable \n",
    "    image = cv2.cvtColor(image, cv2.COLOR_RGB2BGR) # COLOR COVERSION RGB 2 BGR\n",
    "    return image, results"
   ]
  },
  {
   "cell_type": "code",
   "execution_count": 52,
   "metadata": {},
   "outputs": [],
   "source": [
    "def draw_landmarks(image, results):\n",
    "    mp_drawing.draw_landmarks(image, results.left_hand_landmarks, mp_holistic.HAND_CONNECTIONS) # Draw left hand connections\n",
    "    mp_drawing.draw_landmarks(image, results.right_hand_landmarks, mp_holistic.HAND_CONNECTIONS) # Draw right hand connections"
   ]
  },
  {
   "cell_type": "code",
   "execution_count": 53,
   "metadata": {},
   "outputs": [],
   "source": [
    "def make_pose(results, c_lm):\n",
    "    c_lm.append(results.pose_landmarks.landmark[9].x)\n",
    "    c_lm.append(results.pose_landmarks.landmark[9].y)\n",
    "\n",
    "    c_lm.append(results.pose_landmarks.landmark[10].x)\n",
    "    c_lm.append(results.pose_landmarks.landmark[10].y)\n",
    "    \n",
    "    return"
   ]
  },
  {
   "cell_type": "code",
   "execution_count": 54,
   "metadata": {},
   "outputs": [],
   "source": [
    "def make_l_hand(results, c_lm):\n",
    "    for id, lm in enumerate(results.left_hand_landmarks.landmark):\n",
    "        c_lm.append(lm.x)\n",
    "        c_lm.append(lm.y)\n",
    "    return\n",
    "\n",
    "def make_r_hand(results, c_lm):\n",
    "    for id, lm in enumerate(results.right_hand_landmarks.landmark):\n",
    "        c_lm.append(lm.x)\n",
    "        c_lm.append(lm.y)\n",
    "    return"
   ]
  },
  {
   "cell_type": "code",
   "execution_count": 63,
   "metadata": {},
   "outputs": [
    {
     "name": "stdout",
     "output_type": "stream",
     "text": [
      "48   0.99396366\n",
      "True\n",
      "9   0.90987235\n",
      "True\n",
      "2   0.9095524\n",
      "True\n",
      "23   0.9999994\n",
      "True\n",
      "25   0.9952306\n",
      "True\n",
      "32   0.7514068\n",
      "True\n"
     ]
    }
   ],
   "source": [
    "cap = cv2.VideoCapture(0)\n",
    "TIME_STEP = 10\n",
    "lm_list = []\n",
    "t = []\n",
    "kt = True\n",
    "text = ''\n",
    "dem = 0\n",
    "with mp_holistic.Holistic(min_detection_confidence=0.5, min_tracking_confidence=0.5) as holistic:\n",
    "    while True:\n",
    "        ret, frame = cap.read()\n",
    "        # frame = cv2.medianBlur(frame,5)\n",
    "        image, results = mediapipe_detection(frame, holistic)\n",
    "        draw_landmarks(image, results)\n",
    "        if kt == True:\n",
    "            if results.pose_landmarks:\n",
    "                if results.left_hand_landmarks or results.right_hand_landmarks:\n",
    "                    lm = []\n",
    "                    make_pose(results, lm)\n",
    "                    if results.left_hand_landmarks:\n",
    "                        make_l_hand(results, lm)\n",
    "                    else:\n",
    "                        for j in range(42):\n",
    "                            lm.append(0)\n",
    "                    if results.right_hand_landmarks:\n",
    "                        make_r_hand(results, lm)\n",
    "                    else:\n",
    "                        for j in range(42):\n",
    "                            lm.append(0)\n",
    "                    lm_f = D_Ham.FindPoint_H(frame, lm)\n",
    "                    lm_pre = D_Ham.pre_process_H(lm_f)\n",
    "                    lm_list.append(lm_pre)\n",
    "                    if len(lm_list) == TIME_STEP:\n",
    "                        lm_save = []\n",
    "                        lm_save.append(lm_list[0])\n",
    "                        for s in range(14):\n",
    "                            lm_save.append(lm_list[int((s + 1) * len(lm_list)/16)])\n",
    "                        lm_save.append(lm_list[len(lm_list) - 1])\n",
    "\n",
    "                        lm_his = D_Ham.pre_convert(lm_save)\n",
    "                        \n",
    "                        sign_id, val = hisp(lm_his)\n",
    "                        if (val[sign_id] >= 0.5):\n",
    "                            text = text + kh[sign_id] + ' '\n",
    "                        lm_list = []\n",
    "                        kt = False\n",
    "                        \n",
    "                        print(str(sign_id) + \"   \" + str(val[sign_id]))\n",
    "        else:\n",
    "            dem += 1\n",
    "            if dem == 5:\n",
    "                dem = 0\n",
    "                kt = True\n",
    "                print(\"True\")\n",
    "\n",
    "        cv2.rectangle(image, (10, 10), (630, 55), (0, 207, 0), -1)\n",
    "        cv2.putText(image, text, (20, 45),\n",
    "                                   cv2.FONT_HERSHEY_SIMPLEX, 1.3, (245, 0, 0), 3, cv2.LINE_AA)\n",
    "        cv2.imshow(\"Image\", image)\n",
    "        key = cv2.waitKey(10)\n",
    "        if key == 27:\n",
    "            break\n",
    "        elif key == 8:\n",
    "            lm_list = []\n",
    "            text = ''\n",
    "        elif key == 48 or key == 49 or key == 50 or key == 51:\n",
    "            D_Ham.SavePoint_H(chr(key), lm_list)\n",
    "            lm_list = []\n",
    "        \n",
    "cap.release()\n",
    "cv2.destroyAllWindows()"
   ]
  },
  {
   "cell_type": "code",
   "execution_count": 56,
   "metadata": {},
   "outputs": [],
   "source": [
    "cap.release()\n",
    "cv2.destroyAllWindows()"
   ]
  }
 ],
 "metadata": {
  "kernelspec": {
   "display_name": "Python 3.9.0 ('.mtao': venv)",
   "language": "python",
   "name": "python3"
  },
  "language_info": {
   "codemirror_mode": {
    "name": "ipython",
    "version": 3
   },
   "file_extension": ".py",
   "mimetype": "text/x-python",
   "name": "python",
   "nbconvert_exporter": "python",
   "pygments_lexer": "ipython3",
   "version": "3.9.0"
  },
  "orig_nbformat": 4,
  "vscode": {
   "interpreter": {
    "hash": "8c605ef64628d116b4b885575680aefdda046457c284ed018b9a1bcba7734ddc"
   }
  }
 },
 "nbformat": 4,
 "nbformat_minor": 2
}
